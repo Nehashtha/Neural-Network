{
 "cells": [
  {
   "cell_type": "code",
   "execution_count": 54,
   "metadata": {},
   "outputs": [
    {
     "name": "stdout",
     "output_type": "stream",
     "text": [
      "8\n"
     ]
    }
   ],
   "source": [
    "import numpy as np\n",
    "from matplotlib import pyplot as plt\n",
    "# create the training patterns\n",
    "X=np.zeros((12,10))\n",
    "\n",
    "a_pattern=np.array([[0, 0, 0, 0, 0, 0, 0, 0, 0, 0],\n",
    "                [0, 0, 0, 1, 1, 1, 1, 0, 0, 0],\n",
    "                [0, 0, 1, 1, 1, 1, 1, 1, 0, 0],\n",
    "                [0, 1, 1, 1, 0, 0, 1, 1, 1, 0],\n",
    "                [0, 1, 1, 1, 0, 0, 1, 1, 1, 0],\n",
    "                [0, 1, 1, 1, 0, 0, 1, 1, 1, 0],\n",
    "                [0, 1, 1, 1, 0, 0, 1, 1, 1, 0],\n",
    "                [0, 1, 1, 1, 0, 0, 1, 1, 1, 0],\n",
    "                [0, 1, 1, 1, 0, 0, 1, 1, 1, 0],\n",
    "                [0, 0, 1, 1, 1, 1, 1, 1, 0, 0],\n",
    "                [0, 0, 0, 1, 1, 1, 1, 0, 0, 0],\n",
    "                [0, 0, 0, 0, 0, 0, 0, 0, 0, 0]])\n",
    "# print(type(a_pattern))\n",
    "\n",
    "b_pattern=np.array([[0, 0, 0, 1, 1, 1, 1, 0, 0, 0],\n",
    "                    [0, 0, 0, 1, 1, 1, 1, 0, 0, 0],\n",
    "                    [0, 0, 0, 1, 1, 1, 1, 0, 0, 0],\n",
    "                    [0, 0, 0, 1, 1, 1, 1, 0, 0, 0],\n",
    "                    [0, 0, 0, 1, 1, 1, 1, 0, 0, 0],\n",
    "                    [0, 0, 0, 1, 1, 1, 1, 0, 0, 0],\n",
    "                    [0, 0, 0, 1, 1, 1, 1, 0, 0, 0],\n",
    "                    [0, 0, 0, 1, 1, 1, 1, 0, 0, 0],\n",
    "                    [0, 0, 0, 1, 1, 1, 1, 0, 0, 0],\n",
    "                    [0, 0, 0, 1, 1, 1, 1, 0, 0, 0],\n",
    "                    [0, 0, 0, 1, 1, 1, 1, 0, 0, 0],\n",
    "                    [0, 0, 0, 1, 1, 1, 1, 0, 0, 0]])\n",
    "\n",
    "c_pattern=np.array([[1, 1, 1, 1, 1, 1, 1, 1, 0, 0],\n",
    "                    [1, 1, 1, 1, 1, 1, 1, 1, 0, 0],\n",
    "                    [0, 0, 0, 0, 0, 0, 1, 1, 0, 0],\n",
    "                    [0, 0, 0, 0, 0, 0, 1, 1, 0, 0],\n",
    "                    [0, 0, 0, 0, 0, 0, 1, 1, 0, 0],\n",
    "                    [1, 1, 1, 1, 1, 1, 1, 1, 0, 0],\n",
    "                    [1, 1, 1, 1, 1, 1, 1, 1, 0, 0],\n",
    "                    [1, 1, 0, 0, 0, 0, 0, 0, 0, 0],\n",
    "                    [1, 1, 0, 0, 0, 0, 0, 0, 0, 0],\n",
    "                    [1, 1, 0, 0, 0, 0, 0, 0, 0, 0],\n",
    "                    [1, 1, 1, 1, 1, 1, 1, 1, 0, 0],\n",
    "                    [1, 1, 1, 1, 1, 1, 1, 1, 0, 0]])\n",
    "\n",
    "\n",
    "d_pattern=np.array([[0, 0, 1, 1, 1, 1, 1, 1, 0, 0],\n",
    "                    [0, 0, 1, 1, 1, 1, 1, 1, 1, 0],\n",
    "                    [0, 0, 0, 0, 0, 0, 0, 1, 1, 0],\n",
    "                    [0, 0, 0, 0, 0, 0, 0, 1, 1, 0],\n",
    "                    [0, 0, 0, 0, 0, 0, 0, 1, 1, 0],\n",
    "                    [0, 0, 0, 0, 1, 1, 1, 1, 0, 0],\n",
    "                    [0, 0, 0, 0, 1, 1, 1, 1, 0, 0],\n",
    "                    [0, 0, 0, 0, 0, 0, 0, 1, 1, 0],\n",
    "                    [0, 0, 0, 0, 0, 0, 0, 1, 1, 0],\n",
    "                    [0, 0, 0, 0, 0, 0, 0, 1, 1, 0],\n",
    "                    [0, 0, 1, 1, 1, 1, 1, 1, 1, 0],\n",
    "                    [0, 0, 1, 1, 1, 1, 1, 1, 0, 0]])\n",
    "\n",
    "e_pattern=np.array([[0, 1, 1, 0, 0, 0, 0, 1, 1, 0],\n",
    "                    [0, 1, 1, 0, 0, 0, 0, 1, 1, 0],\n",
    "                    [0, 1, 1, 0, 0, 0, 0, 1, 1, 0],\n",
    "                    [0, 1, 1, 0, 0, 0, 0, 1, 1, 0],\n",
    "                    [0, 1, 1, 0, 0, 0, 0, 1, 1, 0],\n",
    "                    [0, 1, 1, 1, 1, 1, 1, 1, 1, 0],\n",
    "                    [0, 1, 1, 1, 1, 1, 1, 1, 1, 0],\n",
    "                    [0, 0, 0, 0, 0, 0, 0, 1, 1, 0],\n",
    "                    [0, 0, 0, 0, 0, 0, 0, 1, 1, 0],\n",
    "                    [0, 0, 0, 0, 0, 0, 0, 1, 1, 0],\n",
    "                    [0, 0, 0, 0, 0, 0, 0, 1, 1, 0],\n",
    "                    [0, 0, 0, 0, 0, 0, 0, 1, 1, 0]])\n",
    "f_pattern=np.array([[1, 1, 1, 1, 1, 1, 0, 0, 0, 0],\n",
    "                    [1, 1, 1, 1, 1, 1, 0, 0, 0, 0],\n",
    "                    [1, 1, 0, 0, 0, 0, 0, 0, 0, 0],\n",
    "                    [1, 1, 0, 0, 0, 0, 0, 0, 0, 0],\n",
    "                    [1, 1, 0, 0, 0, 0, 0, 0, 0, 0],\n",
    "                    [1, 1, 1, 1, 1, 1, 0, 0, 0, 0],\n",
    "                    [1, 1, 1, 1, 1, 1, 0, 0, 0, 0],\n",
    "                    [1, 1, 0, 0, 1, 1, 0, 0, 0, 0],\n",
    "                    [1, 1, 0, 0, 1, 1, 0, 0, 0, 0],\n",
    "                    [1, 1, 0, 0, 1, 1, 0, 0, 0, 0],\n",
    "                    [1, 1, 1, 1, 1, 1, 0, 0, 0, 0],\n",
    "                    [1, 1, 1, 1, 1, 1, 0, 0, 0, 0]])\n",
    "\n",
    "g_pattern=np.array([[1, 1, 1, 1, 1, 0, 0, 0, 0, 0],\n",
    "                    [1, 1, 1, 1, 1, 0, 0, 0, 0, 0],\n",
    "                    [1, 1, 1, 1, 1, 0, 0, 0, 0, 0],\n",
    "                    [1, 1, 1, 1, 1, 0, 0, 0, 0, 0],\n",
    "                    [1, 1, 1, 1, 1, 0, 0, 0, 0, 0],\n",
    "                    [1, 1, 1, 1, 1, 0, 0, 0, 0, 0],\n",
    "                    [0, 0, 0, 0, 0, 0, 0, 0, 0, 0],\n",
    "                    [0, 0, 0, 0, 0, 0, 0, 0, 0, 0],\n",
    "                    [0, 0, 0, 0, 0, 0, 0, 0, 0, 0],\n",
    "                    [0, 0, 0, 0, 0, 0, 0, 0, 0, 0],\n",
    "                    [0, 0, 0, 0, 0, 0, 0, 0, 0, 0],\n",
    "                    [0, 0, 0, 0, 0, 0, 0, 0, 0, 0]])\n",
    "\n",
    "h_pattern=np.array([[0, 0, 0, 0, 1, 1, 1, 1, 1, 1],\n",
    "                    [0, 0, 0, 0, 1, 1, 1, 1, 1, 1],\n",
    "                    [0, 0, 0, 0, 1, 1, 0, 0, 1, 1],\n",
    "                    [0, 0, 0, 0, 1, 1, 0, 0, 1, 1],\n",
    "                    [0, 0, 0, 0, 1, 1, 0, 0, 1, 1],\n",
    "                    [0, 0, 0, 0, 1, 1, 0, 0, 1, 1],\n",
    "                    [0, 0, 0, 0, 1, 1, 1, 1, 1, 1],\n",
    "                    [0, 0, 0, 0, 0, 0, 0, 0, 1, 1],\n",
    "                    [0, 0, 0, 0, 0, 0, 0, 0, 1, 1],\n",
    "                    [0, 0, 0, 0, 0, 0, 0, 0, 1, 1],\n",
    "                    [0, 0, 0, 0, 1, 1, 1, 1, 1, 1],\n",
    "                    [0, 0, 0, 0, 1, 1, 1, 1, 1, 1]])\n",
    "\n",
    "\n",
    "a_pattern *=2\n",
    "a_pattern -=1\n",
    "\n",
    "b_pattern *=2\n",
    "b_pattern -=1\n",
    "\n",
    "c_pattern *=2\n",
    "c_pattern -=1\n",
    "\n",
    "d_pattern *=2\n",
    "d_pattern -=1\n",
    "\n",
    "e_pattern *=2\n",
    "e_pattern -=1\n",
    "\n",
    "f_pattern *=2\n",
    "f_pattern -=1\n",
    "\n",
    "g_pattern *=2\n",
    "g_pattern -=1\n",
    "\n",
    "h_pattern *=2\n",
    "h_pattern -=1\n",
    "\n",
    "\n",
    "input_patterns=np.array([a_pattern.flatten(), b_pattern.flatten(),c_pattern.flatten(), d_pattern.flatten(),e_pattern.flatten(),f_pattern.flatten(),g_pattern.flatten(),h_pattern.flatten()])\n",
    "# print(input_patterns)\n",
    "print(len(input_patterns))\n",
    "\n"
   ]
  },
  {
   "cell_type": "code",
   "execution_count": 55,
   "metadata": {},
   "outputs": [
    {
     "data": {
      "image/png": "[encoded data removed]",
      "text/plain": [
       "<Figure size 864x720 with 8 Axes>"
      ]
     },
     "metadata": {},
     "output_type": "display_data"
    }
   ],
   "source": [
    "fig,ax=plt.subplots(1, len(input_patterns), figsize=(12,10))\n",
    "for k in range(len(input_patterns)):\n",
    "\n",
    "    ax[k].matshow(input_patterns[k].reshape((12,10)), cmap='gray')\n",
    "#     ax[k].set_title(\"pattern\")\n",
    "    ax[k].set_xticks([])\n",
    "    ax[k].set_yticks([])\n",
    "\n",
    "plt.show()"
   ]
  },
  {
   "cell_type": "code",
   "execution_count": 56,
   "metadata": {},
   "outputs": [
    {
     "name": "stdout",
     "output_type": "stream",
     "text": [
      "[[0. 0. 0. ... 0. 0. 0.]\n",
      " [0. 0. 0. ... 0. 0. 0.]\n",
      " [0. 0. 0. ... 0. 0. 0.]\n",
      " ...\n",
      " [0. 0. 0. ... 0. 0. 0.]\n",
      " [0. 0. 0. ... 0. 0. 0.]\n",
      " [0. 0. 0. ... 0. 0. 0.]]\n",
      "8\n"
     ]
    }
   ],
   "source": [
    "#weight initialization\n",
    "W=np.zeros((120,120))\n",
    "print(W)\n",
    "print(input_patterns.shape[0])"
   ]
  },
  {
   "cell_type": "code",
   "execution_count": 57,
   "metadata": {},
   "outputs": [
    {
     "name": "stdout",
     "output_type": "stream",
     "text": [
      "[[ 0.    0.75  0.5  ... -0.25 -0.25  0.  ]\n",
      " [ 0.75  0.    0.75 ...  0.    0.   -0.25]\n",
      " [ 0.5   0.75  0.   ...  0.25 -0.25 -0.5 ]\n",
      " ...\n",
      " [-0.25  0.    0.25 ...  0.    0.5   0.25]\n",
      " [-0.25  0.   -0.25 ...  0.5   0.    0.75]\n",
      " [ 0.   -0.25 -0.5  ...  0.25  0.75  0.  ]]\n"
     ]
    }
   ],
   "source": [
    "#train network\n",
    "for i in range(120):\n",
    "    for j in range(120):\n",
    "        if i==j :\n",
    "            W[i,j]=0.0\n",
    "        else:\n",
    "            w=0.0\n",
    "            for n in range(len(input_patterns)):\n",
    "                w= w+ input_patterns[n,i] * input_patterns[n,j]\n",
    "#             print( input_patterns[2,7])\n",
    "            W[i,j]= w/input_patterns.shape[0]\n",
    "            W[j,i]= W[i,j]\n",
    "        \n",
    "print(W)      "
   ]
  },
  {
   "cell_type": "code",
   "execution_count": 58,
   "metadata": {},
   "outputs": [],
   "source": [
    "#creating corrupted pattern 25%\n",
    "import random\n",
    "test_data=input_patterns.copy()\n",
    "for idn in range(len(test_data)):\n",
    "    for _ in range(30):\n",
    "        idx=random.randint(0,119)\n",
    "        test_data[idn][idx]=test_data[idn][idx]*-1\n",
    "#     idn=idn+1\n",
    "# print(test_data[0])"
   ]
  },
  {
   "cell_type": "code",
   "execution_count": 59,
   "metadata": {},
   "outputs": [],
   "source": [
    "#recover from clean data\n",
    "#asynchronous\n",
    "                \n",
    "\n",
    "recovered__clean_data=input_patterns.copy()\n",
    "# print(recovered_data[0].shape)\n",
    "\n",
    "# print(type(recovered_data))\n",
    "B=recovered__clean_data[4].copy()\n",
    "# print(A)\n",
    "\n",
    "for _ in range(5):       \n",
    "#     print(A)\n",
    "    recovered_clean_data_final=np.dot(A,W)\n",
    "\n",
    "\n",
    "    for i in range(120):\n",
    "\n",
    "            if recovered_clean_data_final[i]==0.0:\n",
    "                continue\n",
    "            elif recovered_clean_data_final[i]> 0.0 :\n",
    "                  if B[i]<0:\n",
    "                    \n",
    "                    B[i]=1.0\n",
    "                    break\n",
    "            else:\n",
    "                if B[i]>0:\n",
    "                    \n",
    "                    B[i]=-1.0\n",
    "                    break\n",
    "                    "
   ]
  },
  {
   "cell_type": "code",
   "execution_count": 60,
   "metadata": {},
   "outputs": [],
   "source": [
    "#recover data from distorted pattern\n",
    "#asynchronous\n",
    "\n",
    "recovered_data=test_data.copy()\n",
    "# print(recovered_data[0].shape)\n",
    "\n",
    "# print(type(recovered_data))\n",
    "A=recovered_data[0].copy()\n",
    "\n",
    "\n",
    "\n",
    "# change the no. of iteration to see how the pattern recovers in every iteration\n",
    "\n",
    "for _ in range(10):       \n",
    "#     print(A)\n",
    "    recovered_data_final=np.dot(A,W)\n",
    "\n",
    "\n",
    "    for i in range(120):\n",
    "\n",
    "            if recovered_data_final[i]==0.0:\n",
    "                continue\n",
    "            elif recovered_data_final[i]> 0.0 :\n",
    "                  if A[i]<0:\n",
    "                    \n",
    "                    A[i]=1.0\n",
    "                    break\n",
    "            else:\n",
    "                if A[i]>0:\n",
    "                    \n",
    "                    A[i]=-1.0\n",
    "                    break\n",
    "                    \n",
    "\n"
   ]
  },
  {
   "cell_type": "code",
   "execution_count": 61,
   "metadata": {},
   "outputs": [
    {
     "data": {
      "image/png": "[encoded data removed]",
      "text/plain": [
       "<Figure size 864x720 with 2 Axes>"
      ]
     },
     "metadata": {},
     "output_type": "display_data"
    }
   ],
   "source": [
    "#plot of distorted pattern 'O' but you can change the index to see other pattern \n",
    "# you can plot clean pattern using B instead of A and input_patterns instead of test_data\n",
    "\n",
    "fig, ax= plt. subplots (1,2, figsize=(12,10))\n",
    "\n",
    "ax[0].matshow(test_data[0].reshape((12,10)), cmap='gray')\n",
    "ax[0].set_title('input pattern')\n",
    "ax[0].set_xticks([])\n",
    "ax[0].set_yticks([])\n",
    "\n",
    "ax[1].matshow(A.reshape((12,10)), cmap='gray')\n",
    "ax[1].set_title('Recovered pattern')\n",
    "ax[1].set_xticks([])\n",
    "ax[1].set_yticks([])\n",
    "plt.show()"
   ]
  },
  {
   "cell_type": "code",
   "execution_count": null,
   "metadata": {},
   "outputs": [],
   "source": []
  },
  {
   "cell_type": "code",
   "execution_count": null,
   "metadata": {},
   "outputs": [],
   "source": []
  },
  {
   "cell_type": "code",
   "execution_count": null,
   "metadata": {},
   "outputs": [],
   "source": []
  },
  {
   "cell_type": "code",
   "execution_count": null,
   "metadata": {},
   "outputs": [],
   "source": []
  }
 ],
 "metadata": {
  "kernelspec": {
   "display_name": "Python 3",
   "language": "python",
   "name": "python3"
  },
  "language_info": {
   "codemirror_mode": {
    "name": "ipython",
    "version": 3
   },
   "file_extension": ".py",
   "mimetype": "text/x-python",
   "name": "python",
   "nbconvert_exporter": "python",
   "pygments_lexer": "ipython3",
   "version": "3.7.3"
  }
 },
 "nbformat": 4,
 "nbformat_minor": 2
}
