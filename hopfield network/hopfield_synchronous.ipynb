{
 "cells": [
  {
   "cell_type": "code",
   "execution_count": 21,
   "metadata": {},
   "outputs": [],
   "source": [
    "import numpy as np\n",
    "from matplotlib import pyplot as plt\n",
    "# create the training patterns\n",
    "X=np.zeros((12,10))\n",
    "\n",
    "a_pattern=np.array([[0, 0, 0, 0, 0, 0, 0, 0, 0, 0],\n",
    "                [0, 0, 0, 1, 1, 1, 1, 0, 0, 0],\n",
    "                [0, 0, 1, 1, 1, 1, 1, 1, 0, 0],\n",
    "                [0, 1, 1, 1, 0, 0, 1, 1, 1, 0],\n",
    "                [0, 1, 1, 1, 0, 0, 1, 1, 1, 0],\n",
    "                [0, 1, 1, 1, 0, 0, 1, 1, 1, 0],\n",
    "                [0, 1, 1, 1, 0, 0, 1, 1, 1, 0],\n",
    "                [0, 1, 1, 1, 0, 0, 1, 1, 1, 0],\n",
    "                [0, 1, 1, 1, 0, 0, 1, 1, 1, 0],\n",
    "                [0, 0, 1, 1, 1, 1, 1, 1, 0, 0],\n",
    "                [0, 0, 0, 1, 1, 1, 1, 0, 0, 0],\n",
    "                [0, 0, 0, 0, 0, 0, 0, 0, 0, 0]])\n",
    "# print(type(a_pattern))\n",
    "\n",
    "b_pattern=np.array([[0, 0, 0, 1, 1, 1, 1, 0, 0, 0],\n",
    "                    [0, 0, 0, 1, 1, 1, 1, 0, 0, 0],\n",
    "                    [0, 0, 0, 1, 1, 1, 1, 0, 0, 0],\n",
    "                    [0, 0, 0, 1, 1, 1, 1, 0, 0, 0],\n",
    "                    [0, 0, 0, 1, 1, 1, 1, 0, 0, 0],\n",
    "                    [0, 0, 0, 1, 1, 1, 1, 0, 0, 0],\n",
    "                    [0, 0, 0, 1, 1, 1, 1, 0, 0, 0],\n",
    "                    [0, 0, 0, 1, 1, 1, 1, 0, 0, 0],\n",
    "                    [0, 0, 0, 1, 1, 1, 1, 0, 0, 0],\n",
    "                    [0, 0, 0, 1, 1, 1, 1, 0, 0, 0],\n",
    "                    [0, 0, 0, 1, 1, 1, 1, 0, 0, 0],\n",
    "                    [0, 0, 0, 1, 1, 1, 1, 0, 0, 0]])\n",
    "\n",
    "c_pattern=np.array([[1, 1, 1, 1, 1, 1, 1, 1, 0, 0],\n",
    "                    [1, 1, 1, 1, 1, 1, 1, 1, 0, 0],\n",
    "                    [0, 0, 0, 0, 0, 0, 1, 1, 0, 0],\n",
    "                    [0, 0, 0, 0, 0, 0, 1, 1, 0, 0],\n",
    "                    [0, 0, 0, 0, 0, 0, 1, 1, 0, 0],\n",
    "                    [1, 1, 1, 1, 1, 1, 1, 1, 0, 0],\n",
    "                    [1, 1, 1, 1, 1, 1, 1, 1, 0, 0],\n",
    "                    [1, 1, 0, 0, 0, 0, 0, 0, 0, 0],\n",
    "                    [1, 1, 0, 0, 0, 0, 0, 0, 0, 0],\n",
    "                    [1, 1, 0, 0, 0, 0, 0, 0, 0, 0],\n",
    "                    [1, 1, 1, 1, 1, 1, 1, 1, 0, 0],\n",
    "                    [1, 1, 1, 1, 1, 1, 1, 1, 0, 0]])\n",
    "\n",
    "\n",
    "d_pattern=np.array([[0, 0, 1, 1, 1, 1, 1, 1, 0, 0],\n",
    "                    [0, 0, 1, 1, 1, 1, 1, 1, 1, 0],\n",
    "                    [0, 0, 0, 0, 0, 0, 0, 1, 1, 0],\n",
    "                    [0, 0, 0, 0, 0, 0, 0, 1, 1, 0],\n",
    "                    [0, 0, 0, 0, 0, 0, 0, 1, 1, 0],\n",
    "                    [0, 0, 0, 0, 1, 1, 1, 1, 0, 0],\n",
    "                    [0, 0, 0, 0, 1, 1, 1, 1, 0, 0],\n",
    "                    [0, 0, 0, 0, 0, 0, 0, 1, 1, 0],\n",
    "                    [0, 0, 0, 0, 0, 0, 0, 1, 1, 0],\n",
    "                    [0, 0, 0, 0, 0, 0, 0, 1, 1, 0],\n",
    "                    [0, 0, 1, 1, 1, 1, 1, 1, 1, 0],\n",
    "                    [0, 0, 1, 1, 1, 1, 1, 1, 0, 0]])\n",
    "\n",
    "e_pattern=np.array([[0, 1, 1, 0, 0, 0, 0, 1, 1, 0],\n",
    "                    [0, 1, 1, 0, 0, 0, 0, 1, 1, 0],\n",
    "                    [0, 1, 1, 0, 0, 0, 0, 1, 1, 0],\n",
    "                    [0, 1, 1, 0, 0, 0, 0, 1, 1, 0],\n",
    "                    [0, 1, 1, 0, 0, 0, 0, 1, 1, 0],\n",
    "                    [0, 1, 1, 1, 1, 1, 1, 1, 1, 0],\n",
    "                    [0, 1, 1, 1, 1, 1, 1, 1, 1, 0],\n",
    "                    [0, 0, 0, 0, 0, 0, 0, 1, 1, 0],\n",
    "                    [0, 0, 0, 0, 0, 0, 0, 1, 1, 0],\n",
    "                    [0, 0, 0, 0, 0, 0, 0, 1, 1, 0],\n",
    "                    [0, 0, 0, 0, 0, 0, 0, 1, 1, 0],\n",
    "                    [0, 0, 0, 0, 0, 0, 0, 1, 1, 0]])\n",
    "f_pattern=np.array([[1, 1, 1, 1, 1, 1, 0, 0, 0, 0],\n",
    "                    [1, 1, 1, 1, 1, 1, 0, 0, 0, 0],\n",
    "                    [1, 1, 0, 0, 0, 0, 0, 0, 0, 0],\n",
    "                    [1, 1, 0, 0, 0, 0, 0, 0, 0, 0],\n",
    "                    [1, 1, 0, 0, 0, 0, 0, 0, 0, 0],\n",
    "                    [1, 1, 1, 1, 1, 1, 0, 0, 0, 0],\n",
    "                    [1, 1, 1, 1, 1, 1, 0, 0, 0, 0],\n",
    "                    [1, 1, 0, 0, 1, 1, 0, 0, 0, 0],\n",
    "                    [1, 1, 0, 0, 1, 1, 0, 0, 0, 0],\n",
    "                    [1, 1, 0, 0, 1, 1, 0, 0, 0, 0],\n",
    "                    [1, 1, 1, 1, 1, 1, 0, 0, 0, 0],\n",
    "                    [1, 1, 1, 1, 1, 1, 0, 0, 0, 0]])\n",
    "\n",
    "g_pattern=np.array([[1, 1, 1, 1, 1, 0, 0, 0, 0, 0],\n",
    "                    [1, 1, 1, 1, 1, 0, 0, 0, 0, 0],\n",
    "                    [1, 1, 1, 1, 1, 0, 0, 0, 0, 0],\n",
    "                    [1, 1, 1, 1, 1, 0, 0, 0, 0, 0],\n",
    "                    [1, 1, 1, 1, 1, 0, 0, 0, 0, 0],\n",
    "                    [1, 1, 1, 1, 1, 0, 0, 0, 0, 0],\n",
    "                    [0, 0, 0, 0, 0, 0, 0, 0, 0, 0],\n",
    "                    [0, 0, 0, 0, 0, 0, 0, 0, 0, 0],\n",
    "                    [0, 0, 0, 0, 0, 0, 0, 0, 0, 0],\n",
    "                    [0, 0, 0, 0, 0, 0, 0, 0, 0, 0],\n",
    "                    [0, 0, 0, 0, 0, 0, 0, 0, 0, 0],\n",
    "                    [0, 0, 0, 0, 0, 0, 0, 0, 0, 0]])\n",
    "\n",
    "h_pattern=np.array([[0, 0, 0, 0, 1, 1, 1, 1, 1, 1],\n",
    "                    [0, 0, 0, 0, 1, 1, 1, 1, 1, 1],\n",
    "                    [0, 0, 0, 0, 1, 1, 0, 0, 1, 1],\n",
    "                    [0, 0, 0, 0, 1, 1, 0, 0, 1, 1],\n",
    "                    [0, 0, 0, 0, 1, 1, 0, 0, 1, 1],\n",
    "                    [0, 0, 0, 0, 1, 1, 0, 0, 1, 1],\n",
    "                    [0, 0, 0, 0, 1, 1, 1, 1, 1, 1],\n",
    "                    [0, 0, 0, 0, 0, 0, 0, 0, 1, 1],\n",
    "                    [0, 0, 0, 0, 0, 0, 0, 0, 1, 1],\n",
    "                    [0, 0, 0, 0, 0, 0, 0, 0, 1, 1],\n",
    "                    [0, 0, 0, 0, 1, 1, 1, 1, 1, 1],\n",
    "                    [0, 0, 0, 0, 1, 1, 1, 1, 1, 1]])\n",
    "\n",
    "\n",
    "a_pattern *=2\n",
    "a_pattern -=1\n",
    "\n",
    "b_pattern *=2\n",
    "b_pattern -=1\n",
    "\n",
    "c_pattern *=2\n",
    "c_pattern -=1\n",
    "\n",
    "d_pattern *=2\n",
    "d_pattern -=1\n",
    "\n",
    "e_pattern *=2\n",
    "e_pattern -=1\n",
    "\n",
    "f_pattern *=2\n",
    "f_pattern -=1\n",
    "\n",
    "g_pattern *=2\n",
    "g_pattern -=1\n",
    "\n",
    "h_pattern *=2\n",
    "h_pattern -=1\n",
    "\n",
    "input_patterns=np.array([a_pattern.flatten(), b_pattern.flatten(),c_pattern.flatten(), d_pattern.flatten(),e_pattern.flatten(),f_pattern.flatten(),g_pattern.flatten(),h_pattern.flatten()])\n",
    "# print(input_patterns)\n",
    "# print(len(input_patterns))\n",
    "# c=b_pattern.flatten()\n",
    "# print(c)\n"
   ]
  },
  {
   "cell_type": "code",
   "execution_count": 22,
   "metadata": {},
   "outputs": [
    {
     "data": {
      "image/png": "[encoded data removed]",
      "text/plain": [
       "<Figure size 864x720 with 8 Axes>"
      ]
     },
     "metadata": {},
     "output_type": "display_data"
    }
   ],
   "source": [
    "#printing input pattern\n",
    "fig,ax=plt.subplots(1, len(input_patterns), figsize=(12,10))\n",
    "for k in range(len(input_patterns)):\n",
    "\n",
    "    ax[k].matshow(input_patterns[k].reshape((12,10)), cmap='gray')\n",
    "#     ax[k].set_title(\"original pattern\")\n",
    "    ax[k].set_xticks([])\n",
    "    ax[k].set_yticks([])\n",
    "\n",
    "plt.show()\n"
   ]
  },
  {
   "cell_type": "code",
   "execution_count": 23,
   "metadata": {},
   "outputs": [
    {
     "name": "stdout",
     "output_type": "stream",
     "text": [
      "[[0. 0. 0. ... 0. 0. 0.]\n",
      " [0. 0. 0. ... 0. 0. 0.]\n",
      " [0. 0. 0. ... 0. 0. 0.]\n",
      " ...\n",
      " [0. 0. 0. ... 0. 0. 0.]\n",
      " [0. 0. 0. ... 0. 0. 0.]\n",
      " [0. 0. 0. ... 0. 0. 0.]]\n"
     ]
    }
   ],
   "source": [
    "#weight initialization\n",
    "W=np.zeros((120,120))\n",
    "print(W)\n",
    "# print(input_patterns.shape[0])"
   ]
  },
  {
   "cell_type": "code",
   "execution_count": 24,
   "metadata": {},
   "outputs": [
    {
     "name": "stdout",
     "output_type": "stream",
     "text": [
      "[[ 0.    0.75  0.5  ... -0.25 -0.25  0.  ]\n",
      " [ 0.75  0.    0.75 ...  0.    0.   -0.25]\n",
      " [ 0.5   0.75  0.   ...  0.25 -0.25 -0.5 ]\n",
      " ...\n",
      " [-0.25  0.    0.25 ...  0.    0.5   0.25]\n",
      " [-0.25  0.   -0.25 ...  0.5   0.    0.75]\n",
      " [ 0.   -0.25 -0.5  ...  0.25  0.75  0.  ]]\n"
     ]
    }
   ],
   "source": [
    "#train network\n",
    "for i in range(120):\n",
    "    for j in range(120):\n",
    "        if i==j :\n",
    "            W[i,j]=0.0\n",
    "        else:\n",
    "            w=0.0\n",
    "            for n in range(len(input_patterns)):\n",
    "                w= w+ input_patterns[n,i] * input_patterns[n,j]\n",
    "            W[i,j]= w/input_patterns.shape[0]\n",
    "            W[j,i]= W[i,j]\n",
    "        \n",
    "print(W)      \n",
    " "
   ]
  },
  {
   "cell_type": "code",
   "execution_count": 25,
   "metadata": {},
   "outputs": [
    {
     "name": "stdout",
     "output_type": "stream",
     "text": [
      "(8, 120)\n"
     ]
    }
   ],
   "source": [
    "#creating corrupted pattern 25%\n",
    "import random\n",
    "\n",
    "test_data=input_patterns.copy()\n",
    "print(test_data.shape)\n",
    "for idn in range(len(test_data)):\n",
    "    for _ in range(30):\n",
    "        idx=random.randint(0,119)\n",
    "        test_data[idn][idx]=test_data[idn][idx]*-1\n",
    "#   \n",
    "# print(test_data)\n",
    "\n"
   ]
  },
  {
   "cell_type": "code",
   "execution_count": 26,
   "metadata": {},
   "outputs": [],
   "source": [
    "#synchronous\n",
    "# recover clean data\n",
    "recovered_clean_data=input_patterns.copy()\n",
    "for _ in range(1):\n",
    "    for j in range(len(recovered_clean_data)):\n",
    "        for i in range(120):\n",
    "#             print(W[i])\n",
    "            if np.dot(W[i],recovered_clean_data[j]) ==0.0:\n",
    "                continue\n",
    "            elif np.dot(W[i],recovered_clean_data[j])> 0.0 :\n",
    "                recovered_clean_data[j][i]=1.0\n",
    "            else:\n",
    "                recovered_clean_data[j][i]=-1.0"
   ]
  },
  {
   "cell_type": "code",
   "execution_count": 27,
   "metadata": {
    "scrolled": true
   },
   "outputs": [
    {
     "name": "stdout",
     "output_type": "stream",
     "text": [
      "(8, 120)\n"
     ]
    }
   ],
   "source": [
    "#recover corrupted data\n",
    "#synchrnous\n",
    "\n",
    "recovered_data=test_data.copy()\n",
    "# print(recovered_data[0])\n",
    "print(recovered_data.shape)\n",
    "\n",
    "# print(type(recovered_data))\n",
    "for _ in range(1):\n",
    "    for j in range(len(recovered_data)):\n",
    "        for i in range(120):\n",
    "#             if np.dot(W[i],recovered_data[j]) ==0.0:\n",
    "#                 continue\n",
    "            if np.dot(W[i],recovered_data[j])> 0.0 :\n",
    "                recovered_data[j][i]=1.0\n",
    "            else:\n",
    "                recovered_data[j][i]=-1.0\n",
    "\n"
   ]
  },
  {
   "cell_type": "code",
   "execution_count": 28,
   "metadata": {},
   "outputs": [
    {
     "data": {
      "image/png": "[encoded data removed]",
      "text/plain": [
       "<Figure size 864x720 with 6 Axes>"
      ]
     },
     "metadata": {},
     "output_type": "display_data"
    }
   ],
   "source": [
    "# plot of distorted data and recovered data \n",
    "#synchronous\n",
    "#change index in test_data if you want other patterns\n",
    "\n",
    "fig,ax=plt.subplots(3,2, figsize=(12,10))\n",
    "ax1,ax2,ax3,ax4,ax5,ax6=ax.flatten()\n",
    "\n",
    "alpha=['0','1','2','3','4','6','square','9']\n",
    "\n",
    "ax1.matshow(test_data[6].reshape((12,10)), cmap='gray')\n",
    "ax1.set_title(\"distorted pattern \"+ alpha[6])\n",
    "ax1.set_xticks([])\n",
    "ax1.set_yticks([])\n",
    "    \n",
    "ax2.matshow(recovered_data[6].reshape((12,10)), cmap='gray')\n",
    "ax2.set_title(\"recoverd pattern\")\n",
    "ax2.set_xticks([])\n",
    "ax2.set_yticks([])\n",
    "\n",
    "ax3.matshow(test_data[7].reshape((12,10)), cmap='gray')\n",
    "ax3.set_title(\"distorted pattern \"+ alpha[7])\n",
    "ax3.set_xticks([])\n",
    "ax3.set_yticks([])\n",
    "    \n",
    "ax4.matshow(recovered_data[7].reshape((12,10)), cmap='gray')\n",
    "ax4.set_title(\"recovered pattern\")\n",
    "ax4.set_xticks([])\n",
    "ax4.set_yticks([])\n",
    "\n",
    "ax5.matshow(test_data[5].reshape((12,10)), cmap='gray')\n",
    "ax5.set_title(\"distorted pattern \"+ alpha[5])\n",
    "ax5.set_xticks([])\n",
    "ax5.set_yticks([])\n",
    "    \n",
    "ax6.matshow(recovered_data[5].reshape((12,10)), cmap='gray')\n",
    "ax6.set_title(\"recovered pattern\")\n",
    "ax6.set_xticks([])\n",
    "ax6.set_yticks([])\n",
    "\n",
    "\n",
    "plt.show()"
   ]
  },
  {
   "cell_type": "code",
   "execution_count": 30,
   "metadata": {},
   "outputs": [
    {
     "data": {
      "text/plain": [
       "[]"
      ]
     },
     "execution_count": 30,
     "metadata": {},
     "output_type": "execute_result"
    },
    {
     "data": {
      "image/png": "[encoded data removed]",
      "text/plain": [
       "<Figure size 864x720 with 6 Axes>"
      ]
     },
     "metadata": {},
     "output_type": "display_data"
    }
   ],
   "source": [
    "# plot of clean data and recovered data \n",
    "#synchronous\n",
    "#change index input_patterns if you want other patterns\n",
    "\n",
    "\n",
    "fig,ax=plt.subplots(3,2, figsize=(12,10))\n",
    "ax1,ax2,ax3,ax4,ax5,ax6=ax.flatten()\n",
    "\n",
    "alpha=['0','1','2','3','4','6','square','9']\n",
    "\n",
    "ax1.matshow(input_patterns[3].reshape((12,10)), cmap='gray')\n",
    "ax1.set_title(\"clean pattern fed \"+ alpha[3])\n",
    "ax1.set_xticks([])\n",
    "ax1.set_yticks([])\n",
    "    \n",
    "ax2.matshow(recovered_clean_data[3].reshape((12,10)), cmap='gray')\n",
    "ax2.set_title(\"recoverd pattern\")\n",
    "ax2.set_xticks([])\n",
    "ax2.set_yticks([])\n",
    "\n",
    "ax3.matshow(input_patterns[6].reshape((12,10)), cmap='gray')\n",
    "ax3.set_title(\"clean pattern fed \"+ alpha[6])\n",
    "ax3.set_xticks([])\n",
    "ax3.set_yticks([])\n",
    "    \n",
    "ax4.matshow(recovered_clean_data[6].reshape((12,10)), cmap='gray')\n",
    "ax4.set_title(\"recovered pattern\")\n",
    "ax4.set_xticks([])\n",
    "ax4.set_yticks([])\n",
    "\n",
    "ax5.matshow(input_patterns[2].reshape((12,10)), cmap='gray')\n",
    "ax5.set_title(\"clean pattern fed \"+ alpha[2])\n",
    "ax5.set_xticks([])\n",
    "ax5.set_yticks([])\n",
    "    \n",
    "ax6.matshow(recovered_clean_data[2].reshape((12,10)), cmap='gray')\n",
    "ax6.set_title(\"recovered pattern\")\n",
    "ax6.set_xticks([])\n",
    "ax6.set_yticks([])\n",
    "\n"
   ]
  },
  {
   "cell_type": "code",
   "execution_count": null,
   "metadata": {},
   "outputs": [],
   "source": []
  },
  {
   "cell_type": "code",
   "execution_count": null,
   "metadata": {},
   "outputs": [],
   "source": []
  }
 ],
 "metadata": {
  "kernelspec": {
   "display_name": "Python 3",
   "language": "python",
   "name": "python3"
  },
  "language_info": {
   "codemirror_mode": {
    "name": "ipython",
    "version": 3
   },
   "file_extension": ".py",
   "mimetype": "text/x-python",
   "name": "python",
   "nbconvert_exporter": "python",
   "pygments_lexer": "ipython3",
   "version": "3.7.3"
  }
 },
 "nbformat": 4,
 "nbformat_minor": 2
}
